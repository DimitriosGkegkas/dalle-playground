{
  "nbformat": 4,
  "nbformat_minor": 0,
  "metadata": {
    "accelerator": "GPU",
    "colab": {
      "name": "DALL-E Playground Backend",
      "provenance": [],
      "collapsed_sections": [],
      "machine_shape": "hm"
    },
    "kernelspec": {
      "display_name": "Python 3",
      "name": "python3"
    },
    "language_info": {
      "name": "python"
    }
  },
  "cells": [
    {
      "cell_type": "markdown",
      "metadata": {
        "id": "118UKH5bWCGa"
      },
      "source": [
        "<center><img src=\"https://emojipedia-us.s3.dualstack.us-west-1.amazonaws.com/thumbs/240/apple/285/woman-artist_1f469-200d-1f3a8.png\" width=\"120\">\n",
        "</center>\n",
        "\n",
        "### <center>Use this notebook to run your DALL-E server</center>\n",
        "### <center> [DALL-E Playground Repository](https://github.com/saharmor/dalle-playground) </center>\n",
        "\n",
        "#####<center>This notebook is based on the amazing [DALL·E Mini](https://github.com/borisdayma/dalle-mini) by [Boris Dayma](https://github.com/borisdayma) et al.</center>"
      ]
    },
    {
      "cell_type": "markdown",
      "metadata": {
        "id": "dS8LbaonYm3a"
      },
      "source": [
        "## Install dependencies"
      ]
    },
    {
      "cell_type": "code",
      "metadata": {
        "id": "MyO_o-lTQn2A",
        "colab": {
          "base_uri": "https://localhost:8080/"
        },
        "outputId": "f618e3e5-e0a7-49db-b5db-d8741751d2fb"
      },
      "source": [
        "!git clone https://github.com/saharmor/dalle-playground.git\n",
        "!pip install -r dalle-playground/backend/requirements.txt\n",
        "!npm install -g localtunnel"
      ],
      "execution_count": 3,
      "outputs": [
        {
          "metadata": {
            "tags": null
          },
          "name": "stdout",
          "output_type": "stream",
          "text": [
            "fatal: destination path 'dalle-playground' already exists and is not an empty directory.\n",
            "\u001b[34m\u001b[1mwandb\u001b[0m: Synced \u001b[33mproud-microwave-1\u001b[0m: \u001b[34m\u001b[4mhttps://wandb.ai/anony-moose-274811/uncategorized/runs/1hueu6yr?apiKey=4b870fffbeb57f6f4fd81335f777403c7ae0b9df\u001b[0m\n",
            "\u001b[34m\u001b[1mwandb\u001b[0m: Synced 5 W&B file(s), 0 media file(s), 0 artifact file(s) and 0 other file(s)\n",
            "\u001b[34m\u001b[1mwandb\u001b[0m: Find logs at: \u001b[35m\u001b[1m./wandb/run-20220603_101030-1hueu6yr/logs\u001b[0m\n",
            "Looking in indexes: https://pypi.org/simple, https://us-python.pkg.dev/colab-wheels/public/simple/\n",
            "Collecting git+https://github.com/huggingface/transformers.git (from -r dalle-playground/backend/requirements.txt (line 4))\n",
            "  Cloning https://github.com/huggingface/transformers.git to /tmp/pip-req-build-z3s1u_7k\n",
            "  Running command git clone -q https://github.com/huggingface/transformers.git /tmp/pip-req-build-z3s1u_7k\n",
            "  Installing build dependencies ... \u001b[?25l\u001b[?25hdone\n",
            "  Getting requirements to build wheel ... \u001b[?25l\u001b[?25hdone\n",
            "    Preparing wheel metadata ... \u001b[?25l\u001b[?25hdone\n",
            "Collecting git+https://github.com/patil-suraj/vqgan-jax.git (from -r dalle-playground/backend/requirements.txt (line 5))\n",
            "  Cloning https://github.com/patil-suraj/vqgan-jax.git to /tmp/pip-req-build-jn5uj0ct\n",
            "  Running command git clone -q https://github.com/patil-suraj/vqgan-jax.git /tmp/pip-req-build-jn5uj0ct\n",
            "Collecting git+https://github.com/borisdayma/dalle-mini.git (from -r dalle-playground/backend/requirements.txt (line 6))\n",
            "  Cloning https://github.com/borisdayma/dalle-mini.git to /tmp/pip-req-build-5p03ib28\n",
            "  Running command git clone -q https://github.com/borisdayma/dalle-mini.git /tmp/pip-req-build-5p03ib28\n",
            "  Installing build dependencies ... \u001b[?25l\u001b[?25hdone\n",
            "  Getting requirements to build wheel ... \u001b[?25l\u001b[?25hdone\n",
            "    Preparing wheel metadata ... \u001b[?25l\u001b[?25hdone\n",
            "Requirement already satisfied: Flask==2.1.0 in /usr/local/lib/python3.7/dist-packages (from -r dalle-playground/backend/requirements.txt (line 1)) (2.1.0)\n",
            "Requirement already satisfied: Flask-Cors==3.0.9 in /usr/local/lib/python3.7/dist-packages (from -r dalle-playground/backend/requirements.txt (line 2)) (3.0.9)\n",
            "Requirement already satisfied: Flask-RESTful==0.3.8 in /usr/local/lib/python3.7/dist-packages (from -r dalle-playground/backend/requirements.txt (line 3)) (0.3.8)\n",
            "Requirement already satisfied: tqdm in /usr/local/lib/python3.7/dist-packages (from -r dalle-playground/backend/requirements.txt (line 7)) (4.64.0)\n",
            "Requirement already satisfied: flax in /usr/local/lib/python3.7/dist-packages (from -r dalle-playground/backend/requirements.txt (line 8)) (0.5.0)\n",
            "Requirement already satisfied: cloudinary in /usr/local/lib/python3.7/dist-packages (from -r dalle-playground/backend/requirements.txt (line 9)) (1.29.0)\n",
            "Requirement already satisfied: unidecode in /usr/local/lib/python3.7/dist-packages (from dalle-mini==0.0.6->-r dalle-playground/backend/requirements.txt (line 6)) (1.3.4)\n",
            "Requirement already satisfied: jax in /usr/local/lib/python3.7/dist-packages (from dalle-mini==0.0.6->-r dalle-playground/backend/requirements.txt (line 6)) (0.3.8)\n",
            "Requirement already satisfied: ftfy in /usr/local/lib/python3.7/dist-packages (from dalle-mini==0.0.6->-r dalle-playground/backend/requirements.txt (line 6)) (6.1.1)\n",
            "Requirement already satisfied: emoji in /usr/local/lib/python3.7/dist-packages (from dalle-mini==0.0.6->-r dalle-playground/backend/requirements.txt (line 6)) (1.7.0)\n",
            "Requirement already satisfied: wandb in /usr/local/lib/python3.7/dist-packages (from dalle-mini==0.0.6->-r dalle-playground/backend/requirements.txt (line 6)) (0.12.17)\n",
            "Requirement already satisfied: pillow in /usr/local/lib/python3.7/dist-packages (from dalle-mini==0.0.6->-r dalle-playground/backend/requirements.txt (line 6)) (7.1.2)\n",
            "Requirement already satisfied: einops in /usr/local/lib/python3.7/dist-packages (from dalle-mini==0.0.6->-r dalle-playground/backend/requirements.txt (line 6)) (0.4.1)\n",
            "Requirement already satisfied: huggingface-hub<1.0,>=0.1.0 in /usr/local/lib/python3.7/dist-packages (from transformers==4.20.0.dev0->-r dalle-playground/backend/requirements.txt (line 4)) (0.7.0)\n",
            "Requirement already satisfied: importlib-metadata in /usr/local/lib/python3.7/dist-packages (from transformers==4.20.0.dev0->-r dalle-playground/backend/requirements.txt (line 4)) (4.11.4)\n",
            "Requirement already satisfied: packaging>=20.0 in /usr/local/lib/python3.7/dist-packages (from transformers==4.20.0.dev0->-r dalle-playground/backend/requirements.txt (line 4)) (21.3)\n",
            "Requirement already satisfied: regex!=2019.12.17 in /usr/local/lib/python3.7/dist-packages (from transformers==4.20.0.dev0->-r dalle-playground/backend/requirements.txt (line 4)) (2019.12.20)\n",
            "Requirement already satisfied: requests in /usr/local/lib/python3.7/dist-packages (from transformers==4.20.0.dev0->-r dalle-playground/backend/requirements.txt (line 4)) (2.27.1)\n",
            "Requirement already satisfied: tokenizers!=0.11.3,<0.13,>=0.11.1 in /usr/local/lib/python3.7/dist-packages (from transformers==4.20.0.dev0->-r dalle-playground/backend/requirements.txt (line 4)) (0.12.1)\n",
            "Requirement already satisfied: pyyaml>=5.1 in /usr/local/lib/python3.7/dist-packages (from transformers==4.20.0.dev0->-r dalle-playground/backend/requirements.txt (line 4)) (6.0)\n",
            "Requirement already satisfied: filelock in /usr/local/lib/python3.7/dist-packages (from transformers==4.20.0.dev0->-r dalle-playground/backend/requirements.txt (line 4)) (3.7.0)\n",
            "Requirement already satisfied: numpy>=1.17 in /usr/local/lib/python3.7/dist-packages (from transformers==4.20.0.dev0->-r dalle-playground/backend/requirements.txt (line 4)) (1.21.6)\n",
            "Requirement already satisfied: click>=8.0 in /usr/local/lib/python3.7/dist-packages (from Flask==2.1.0->-r dalle-playground/backend/requirements.txt (line 1)) (8.1.3)\n",
            "Requirement already satisfied: itsdangerous>=2.0 in /usr/local/lib/python3.7/dist-packages (from Flask==2.1.0->-r dalle-playground/backend/requirements.txt (line 1)) (2.1.2)\n",
            "Requirement already satisfied: Werkzeug>=2.0 in /usr/local/lib/python3.7/dist-packages (from Flask==2.1.0->-r dalle-playground/backend/requirements.txt (line 1)) (2.1.2)\n",
            "Requirement already satisfied: Jinja2>=3.0 in /usr/local/lib/python3.7/dist-packages (from Flask==2.1.0->-r dalle-playground/backend/requirements.txt (line 1)) (3.1.2)\n",
            "Requirement already satisfied: Six in /usr/local/lib/python3.7/dist-packages (from Flask-Cors==3.0.9->-r dalle-playground/backend/requirements.txt (line 2)) (1.15.0)\n",
            "Requirement already satisfied: pytz in /usr/local/lib/python3.7/dist-packages (from Flask-RESTful==0.3.8->-r dalle-playground/backend/requirements.txt (line 3)) (2022.1)\n",
            "Requirement already satisfied: aniso8601>=0.82 in /usr/local/lib/python3.7/dist-packages (from Flask-RESTful==0.3.8->-r dalle-playground/backend/requirements.txt (line 3)) (9.0.1)\n",
            "Requirement already satisfied: typing-extensions>=3.7.4.3 in /usr/local/lib/python3.7/dist-packages (from huggingface-hub<1.0,>=0.1.0->transformers==4.20.0.dev0->-r dalle-playground/backend/requirements.txt (line 4)) (4.2.0)\n",
            "Requirement already satisfied: absl-py in /usr/local/lib/python3.7/dist-packages (from jax->dalle-mini==0.0.6->-r dalle-playground/backend/requirements.txt (line 6)) (1.0.0)\n",
            "Requirement already satisfied: scipy>=1.2.1 in /usr/local/lib/python3.7/dist-packages (from jax->dalle-mini==0.0.6->-r dalle-playground/backend/requirements.txt (line 6)) (1.4.1)\n",
            "Requirement already satisfied: opt-einsum in /usr/local/lib/python3.7/dist-packages (from jax->dalle-mini==0.0.6->-r dalle-playground/backend/requirements.txt (line 6)) (3.3.0)\n",
            "Requirement already satisfied: MarkupSafe>=2.0 in /usr/local/lib/python3.7/dist-packages (from Jinja2>=3.0->Flask==2.1.0->-r dalle-playground/backend/requirements.txt (line 1)) (2.0.1)\n",
            "Requirement already satisfied: pyparsing!=3.0.5,>=2.0.2 in /usr/local/lib/python3.7/dist-packages (from packaging>=20.0->transformers==4.20.0.dev0->-r dalle-playground/backend/requirements.txt (line 4)) (3.0.9)\n",
            "Requirement already satisfied: matplotlib in /usr/local/lib/python3.7/dist-packages (from flax->-r dalle-playground/backend/requirements.txt (line 8)) (3.2.2)\n",
            "Requirement already satisfied: optax in /usr/local/lib/python3.7/dist-packages (from flax->-r dalle-playground/backend/requirements.txt (line 8)) (0.1.2)\n",
            "Requirement already satisfied: msgpack in /usr/local/lib/python3.7/dist-packages (from flax->-r dalle-playground/backend/requirements.txt (line 8)) (1.0.3)\n",
            "Requirement already satisfied: urllib3<2,>=1.26.5 in /usr/local/lib/python3.7/dist-packages (from cloudinary->-r dalle-playground/backend/requirements.txt (line 9)) (1.26.9)\n",
            "Requirement already satisfied: certifi in /usr/local/lib/python3.7/dist-packages (from cloudinary->-r dalle-playground/backend/requirements.txt (line 9)) (2022.5.18.1)\n",
            "Requirement already satisfied: wcwidth>=0.2.5 in /usr/local/lib/python3.7/dist-packages (from ftfy->dalle-mini==0.0.6->-r dalle-playground/backend/requirements.txt (line 6)) (0.2.5)\n",
            "Requirement already satisfied: zipp>=0.5 in /usr/local/lib/python3.7/dist-packages (from importlib-metadata->transformers==4.20.0.dev0->-r dalle-playground/backend/requirements.txt (line 4)) (3.8.0)\n",
            "Requirement already satisfied: kiwisolver>=1.0.1 in /usr/local/lib/python3.7/dist-packages (from matplotlib->flax->-r dalle-playground/backend/requirements.txt (line 8)) (1.4.2)\n",
            "Requirement already satisfied: python-dateutil>=2.1 in /usr/local/lib/python3.7/dist-packages (from matplotlib->flax->-r dalle-playground/backend/requirements.txt (line 8)) (2.8.2)\n",
            "Requirement already satisfied: cycler>=0.10 in /usr/local/lib/python3.7/dist-packages (from matplotlib->flax->-r dalle-playground/backend/requirements.txt (line 8)) (0.11.0)\n",
            "Requirement already satisfied: chex>=0.0.4 in /usr/local/lib/python3.7/dist-packages (from optax->flax->-r dalle-playground/backend/requirements.txt (line 8)) (0.1.3)\n",
            "Requirement already satisfied: jaxlib>=0.1.37 in /usr/local/lib/python3.7/dist-packages (from optax->flax->-r dalle-playground/backend/requirements.txt (line 8)) (0.3.7+cuda11.cudnn805)\n",
            "Requirement already satisfied: dm-tree>=0.1.5 in /usr/local/lib/python3.7/dist-packages (from chex>=0.0.4->optax->flax->-r dalle-playground/backend/requirements.txt (line 8)) (0.1.7)\n",
            "Requirement already satisfied: toolz>=0.9.0 in /usr/local/lib/python3.7/dist-packages (from chex>=0.0.4->optax->flax->-r dalle-playground/backend/requirements.txt (line 8)) (0.11.2)\n",
            "Requirement already satisfied: flatbuffers<3.0,>=1.12 in /usr/local/lib/python3.7/dist-packages (from jaxlib>=0.1.37->optax->flax->-r dalle-playground/backend/requirements.txt (line 8)) (2.0)\n",
            "Requirement already satisfied: charset-normalizer~=2.0.0 in /usr/local/lib/python3.7/dist-packages (from requests->transformers==4.20.0.dev0->-r dalle-playground/backend/requirements.txt (line 4)) (2.0.12)\n",
            "Requirement already satisfied: idna<4,>=2.5 in /usr/local/lib/python3.7/dist-packages (from requests->transformers==4.20.0.dev0->-r dalle-playground/backend/requirements.txt (line 4)) (2.10)\n",
            "Requirement already satisfied: docker-pycreds>=0.4.0 in /usr/local/lib/python3.7/dist-packages (from wandb->dalle-mini==0.0.6->-r dalle-playground/backend/requirements.txt (line 6)) (0.4.0)\n",
            "Requirement already satisfied: sentry-sdk>=1.0.0 in /usr/local/lib/python3.7/dist-packages (from wandb->dalle-mini==0.0.6->-r dalle-playground/backend/requirements.txt (line 6)) (1.5.12)\n",
            "Requirement already satisfied: setproctitle in /usr/local/lib/python3.7/dist-packages (from wandb->dalle-mini==0.0.6->-r dalle-playground/backend/requirements.txt (line 6)) (1.2.3)\n",
            "Requirement already satisfied: setuptools in /usr/local/lib/python3.7/dist-packages (from wandb->dalle-mini==0.0.6->-r dalle-playground/backend/requirements.txt (line 6)) (57.4.0)\n",
            "Requirement already satisfied: GitPython>=1.0.0 in /usr/local/lib/python3.7/dist-packages (from wandb->dalle-mini==0.0.6->-r dalle-playground/backend/requirements.txt (line 6)) (3.1.27)\n",
            "Requirement already satisfied: shortuuid>=0.5.0 in /usr/local/lib/python3.7/dist-packages (from wandb->dalle-mini==0.0.6->-r dalle-playground/backend/requirements.txt (line 6)) (1.0.9)\n",
            "Requirement already satisfied: promise<3,>=2.0 in /usr/local/lib/python3.7/dist-packages (from wandb->dalle-mini==0.0.6->-r dalle-playground/backend/requirements.txt (line 6)) (2.3)\n",
            "Requirement already satisfied: psutil>=5.0.0 in /usr/local/lib/python3.7/dist-packages (from wandb->dalle-mini==0.0.6->-r dalle-playground/backend/requirements.txt (line 6)) (5.4.8)\n",
            "Requirement already satisfied: pathtools in /usr/local/lib/python3.7/dist-packages (from wandb->dalle-mini==0.0.6->-r dalle-playground/backend/requirements.txt (line 6)) (0.1.2)\n",
            "Requirement already satisfied: protobuf<4.0dev,>=3.12.0 in /usr/local/lib/python3.7/dist-packages (from wandb->dalle-mini==0.0.6->-r dalle-playground/backend/requirements.txt (line 6)) (3.17.3)\n",
            "Requirement already satisfied: gitdb<5,>=4.0.1 in /usr/local/lib/python3.7/dist-packages (from GitPython>=1.0.0->wandb->dalle-mini==0.0.6->-r dalle-playground/backend/requirements.txt (line 6)) (4.0.9)\n",
            "Requirement already satisfied: smmap<6,>=3.0.1 in /usr/local/lib/python3.7/dist-packages (from gitdb<5,>=4.0.1->GitPython>=1.0.0->wandb->dalle-mini==0.0.6->-r dalle-playground/backend/requirements.txt (line 6)) (5.0.0)\n",
            "\u001b[K\u001b[?25h/tools/node/bin/lt -> /tools/node/lib/node_modules/localtunnel/bin/lt.js\n",
            "+ localtunnel@2.0.2\n",
            "updated 1 package in 0.9s\n",
            "\n",
            "\u001b[33m\u001b[39m\n",
            "\u001b[33m   ╭────────────────────────────────────────────────────────────────╮\u001b[39m\n",
            "   \u001b[33m│\u001b[39m                                                                \u001b[33m│\u001b[39m\n",
            "   \u001b[33m│\u001b[39m      New \u001b[31mmajor\u001b[39m version of npm available! \u001b[31m6.14.8\u001b[39m → \u001b[32m8.12.1\u001b[39m       \u001b[33m│\u001b[39m\n",
            "   \u001b[33m│\u001b[39m   \u001b[33mChangelog:\u001b[39m \u001b[36mhttps://github.com/npm/cli/releases/tag/v8.12.1\u001b[39m   \u001b[33m│\u001b[39m\n",
            "   \u001b[33m│\u001b[39m               Run \u001b[32mnpm install -g npm\u001b[39m to update!                \u001b[33m│\u001b[39m\n",
            "   \u001b[33m│\u001b[39m                                                                \u001b[33m│\u001b[39m\n",
            "\u001b[33m   ╰────────────────────────────────────────────────────────────────╯\u001b[39m\n",
            "\u001b[33m\u001b[39m\n"
          ]
        }
      ]
    },
    {
      "cell_type": "code",
      "metadata": {
        "id": "qrRYWN7qTioY",
        "colab": {
          "base_uri": "https://localhost:8080/"
        },
        "outputId": "fb91f97d-9271-4a8a-f129-642cbefb9cba"
      },
      "source": [
        "from threading import Thread\n",
        "\n",
        "def app():\n",
        "  !python dalle-playground/backend/app.py 8000\n",
        "\n",
        "if __name__ == '__main__':\n",
        "    t1 = Thread(target = app)\n",
        "    a = t1.start()\n",
        "    !lt --port 8000"
      ],
      "execution_count": 4,
      "outputs": [
        {
          "output_type": "stream",
          "name": "stdout",
          "text": [
            "your url is: https://little-badgers-help-104-196-227-103.loca.lt\n",
            "Traceback (most recent call last):\n",
            "  File \"dalle-playground/backend/app.py\", line 27, in <module>\n",
            "    cloud_name = os.environ['CLOUD_NAME'], \n",
            "  File \"/usr/lib/python3.7/os.py\", line 681, in __getitem__\n",
            "    raise KeyError(key) from None\n",
            "KeyError: 'CLOUD_NAME'\n",
            "^C\n"
          ]
        }
      ]
    },
    {
      "cell_type": "markdown",
      "metadata": {
        "id": "UPhc5fgqT_Q0"
      },
      "source": [
        "### Now, take the url you got from localtunnel (should look like `your url is: https://xxxxxx.loca.lt`), replace it within the url here https://saharmor.github.io/dalle-playground/?backendUrl=https://xxxxxx.loca.lt and run it in the browser. \n",
        "\n",
        "### Let the fun begin ✨"
      ]
    }
  ]
}